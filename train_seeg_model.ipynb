{
 "cells": [
  {
   "cell_type": "code",
   "execution_count": 1,
   "metadata": {},
   "outputs": [],
   "source": [
    "import joblib\n",
    "import mne\n",
    "import os\n",
    "import matplotlib.pyplot as plt\n",
    "from collections import Counter\n",
    "from add_subject_utils import depth, get_subj_data\n",
    "import pandas as pd"
   ]
  },
  {
   "cell_type": "code",
   "execution_count": 2,
   "metadata": {},
   "outputs": [],
   "source": [
    "mne.set_log_level(\"error\")"
   ]
  },
  {
   "cell_type": "code",
   "execution_count": 17,
   "metadata": {},
   "outputs": [
    {
     "name": "stdout",
     "output_type": "stream",
     "text": [
      "Number of subjects: 34\n",
      "Number of subjects with scalp: 34\n"
     ]
    }
   ],
   "source": [
    "# checking the channels\n",
    "dir = r\"D:\\Shaked_data\\clean_with_scalp\"\n",
    "files = sorted(os.listdir(dir))\n",
    "files = [x for x in files if x.split(\".\")[0][-2:] != \"-1\"]\n",
    "scalp_by_subject = {}\n",
    "print(f\"Number of subjects: {len(files)}\")\n",
    "for file in files:\n",
    "    sub = file.split(\"_\")[0][1:]\n",
    "    raw = mne.io.read_raw(os.path.join(dir, file))\n",
    "    if any(x in raw.ch_names for x in [\"C3\", \"C4\", \"F3\", \"F4\"]):\n",
    "        scalp_by_subject[sub] = [x for x in [\"C3\", \"C4\", \"F3\", \"F4\"] if x in raw.ch_names]\n",
    "        \n",
    "print(f\"Number of subjects with scalp: {len(scalp_by_subject)}\")"
   ]
  },
  {
   "cell_type": "code",
   "execution_count": null,
   "metadata": {},
   "outputs": [
    {
     "data": {
      "image/png": "[encoded data removed]",
      "text/plain": [
       "<Figure size 800x500 with 1 Axes>"
      ]
     },
     "metadata": {},
     "output_type": "display_data"
    }
   ],
   "source": [
    "all_channels = [ch for channels in scalp_by_subject.values() for ch in channels]\n",
    "channel_counts = Counter(all_channels)\n",
    "\n",
    "plt.figure(figsize=(8, 5))\n",
    "plt.bar(channel_counts.keys(), channel_counts.values(), color='skyblue', width=0.5)\n",
    "plt.xticks()\n",
    "plt.xlabel(\"Channel Name\")\n",
    "plt.ylabel(\"Count\")\n",
    "plt.title(\"Histogram of Channels Across Subjects\")\n",
    "plt.show()"
   ]
  },
  {
   "cell_type": "code",
   "execution_count": 19,
   "metadata": {},
   "outputs": [
    {
     "data": {
      "text/plain": [
       "Counter({'C4': 33, 'C3': 31, 'F4': 28, 'F3': 26})"
      ]
     },
     "execution_count": 19,
     "metadata": {},
     "output_type": "execute_result"
    }
   ],
   "source": [
    "channel_counts"
   ]
  },
  {
   "cell_type": "code",
   "execution_count": 2,
   "metadata": {},
   "outputs": [],
   "source": [
    "# Running parameters\n",
    "\n",
    "model_name = \"lgbm_full_f15_s25_b_V5.pkl\"\n",
    "use_all_channels = True\n",
    "confidence = 0.8\n",
    "num_channels_agreement = 2"
   ]
  },
  {
   "cell_type": "code",
   "execution_count": 3,
   "metadata": {},
   "outputs": [
    {
     "name": "stderr",
     "output_type": "stream",
     "text": [
      "c:\\Users\\user\\AppData\\Local\\Programs\\Python\\Python312\\Lib\\site-packages\\sklearn\\base.py:380: InconsistentVersionWarning: Trying to unpickle estimator LabelEncoder from version 1.2.2 when using version 1.6.0. This might lead to breaking code or invalid results. Use at your own risk. For more info please refer to:\n",
      "https://scikit-learn.org/stable/model_persistence.html#security-maintainability-limitations\n",
      "  warnings.warn(\n"
     ]
    }
   ],
   "source": [
    "# run depth model for creating labels\n",
    "depth_model, features = joblib.load(rf\"D:\\user\\Desktop\\Noa_Regev\\Students\\Shaked\\{model_name}\").values()"
   ]
  },
  {
   "cell_type": "code",
   "execution_count": 4,
   "metadata": {},
   "outputs": [
    {
     "name": "stdout",
     "output_type": "stream",
     "text": [
      "Opening raw data file D:\\Shaked_data\\clean_with_scalp\\P49_mtl_clean.fif...\n",
      "Isotrak not found\n",
      "    Range : 0 ... 5699999 =      0.000 ...  5699.999 secs\n",
      "Ready.\n"
     ]
    },
    {
     "name": "stderr",
     "output_type": "stream",
     "text": [
      "C:\\Users\\user\\AppData\\Local\\Temp\\ipykernel_12588\\3200951642.py:2: RuntimeWarning: This filename (D:\\Shaked_data\\clean_with_scalp\\P49_mtl_clean.fif) does not conform to MNE naming conventions. All raw files should end with raw.fif, raw_sss.fif, raw_tsss.fif, _meg.fif, _eeg.fif, _ieeg.fif, raw.fif.gz, raw_sss.fif.gz, raw_tsss.fif.gz, _meg.fif.gz, _eeg.fif.gz or _ieeg.fif.gz\n",
      "  clean_raw = mne.io.read_raw_fif(fr'D:\\Shaked_data\\clean_with_scalp\\P{sub}_mtl_clean.fif')\n"
     ]
    },
    {
     "name": "stdout",
     "output_type": "stream",
     "text": [
      "Setting 254814 of 5700000 (4.47%) samples to NaN, retaining 5445186 (95.53%) samples.\n",
      "Creating RawArray with float64 data, n_channels=11, n_times=5700000\n",
      "    Range : 0 ... 5699999 =      0.000 ...  5699.999 secs\n",
      "Ready.\n"
     ]
    }
   ],
   "source": [
    "sub = \"49\"\n",
    "clean_raw = mne.io.read_raw_fif(fr'D:\\Shaked_data\\clean_with_scalp\\P{sub}_mtl_clean.fif')\n",
    "nan_clean = clean_raw.get_data(reject_by_annotation='NaN')\n",
    "nan_raw = mne.io.RawArray(nan_clean, clean_raw.info)"
   ]
  },
  {
   "cell_type": "code",
   "execution_count": null,
   "metadata": {},
   "outputs": [],
   "source": [
    "# extract depth features - example for one channel (all channels in next cell)\n",
    "chan = 'LAH1'\n",
    "curr_data = nan_raw.pick(chan)\n",
    "curr_data.crop(60 * 60 * 1 + 60 * 20, 60 * 60 * 1 + 60 * 25)\n",
    "subj_data = get_subj_data(curr_data, chan, sub, depth=True)\n",
    "prob = depth_model.predict_proba(subj_data[features])[:, 1]\n",
    "y_depth = (prob >= confidence).astype(int)"
   ]
  },
  {
   "cell_type": "code",
   "execution_count": null,
   "metadata": {},
   "outputs": [],
   "source": [
    "# get only one deepest channel from each location\n",
    "if not use_all_channels:\n",
    "    min_indexes = {}\n",
    "    for item in curr_chans:\n",
    "        prefix = item[:-1]\n",
    "        index = int(item[-1])\n",
    "        if prefix not in min_indexes or index < int(min_indexes[prefix][-1][-1]):\n",
    "            min_indexes[prefix] = item"
   ]
  },
  {
   "cell_type": "code",
   "execution_count": 5,
   "metadata": {},
   "outputs": [
    {
     "name": "stdout",
     "output_type": "stream",
     "text": [
      "LAH1: 63 spikes\n",
      "LAH2: 10 spikes\n",
      "RAH1: 854 spikes\n",
      "RAH2: 24 spikes\n",
      "Number of spikes: 22\n",
      "Spikes ratio: 0.0010103793515201616\n"
     ]
    }
   ],
   "source": [
    "# extract depth features - all channels\n",
    "curr_channels = [chan for chan in nan_raw.ch_names if chan in depth]\n",
    "total_y = None\n",
    "for chan in curr_channels:\n",
    "    curr_data = get_subj_data(nan_raw, chan, sub, depth=True)\n",
    "    predictions = depth_model.predict_proba(curr_data[features])\n",
    "    curr_y = (predictions[:, 1] >= confidence).astype(int)\n",
    "    print(f\"{chan}: {sum(curr_y)} spikes\")\n",
    "    if total_y is None:\n",
    "        total_y = curr_y\n",
    "    else:\n",
    "        # summing answers from all the channels\n",
    "        total_y += curr_y\n",
    "\n",
    "# at least 2 channels should be above threshold\n",
    "total_y[total_y < num_channels_agreement] = 0\n",
    "total_y[total_y >= num_channels_agreement] = 1\n",
    "print(f\"Number of spikes: {sum(total_y)}\")\n",
    "print(f\"Spikes ratio: {total_y.sum() / len(total_y)}\")"
   ]
  },
  {
   "cell_type": "code",
   "execution_count": 6,
   "metadata": {},
   "outputs": [
    {
     "name": "stderr",
     "output_type": "stream",
     "text": [
      "d:\\user\\Desktop\\Noa_Regev\\Students\\Shaked\\spikes_notebooks\\add_subject_utils.py:370: SyntaxWarning: invalid escape sequence '\\P'\n",
      "  clean_raw = mne.io.read_raw_fif(f\"{dir_path}\\P{subject}_mtl_clean.fif\")\n"
     ]
    },
    {
     "ename": "MemoryError",
     "evalue": "Unable to allocate 8.73 GiB for an array with shape (21774, 232, 232) and data type float64",
     "output_type": "error",
     "traceback": [
      "\u001b[1;31m---------------------------------------------------------------------------\u001b[0m",
      "\u001b[1;31mMemoryError\u001b[0m                               Traceback (most recent call last)",
      "Cell \u001b[1;32mIn[6], line 5\u001b[0m\n\u001b[0;32m      3\u001b[0m \u001b[38;5;28;01mfor\u001b[39;00m channel_couple \u001b[38;5;129;01min\u001b[39;00m scalp_channels:\n\u001b[0;32m      4\u001b[0m     \u001b[38;5;28;01mif\u001b[39;00m \u001b[38;5;28mall\u001b[39m(ch \u001b[38;5;129;01min\u001b[39;00m nan_raw\u001b[38;5;241m.\u001b[39mch_names \u001b[38;5;28;01mfor\u001b[39;00m ch \u001b[38;5;129;01min\u001b[39;00m channel_couple):\n\u001b[1;32m----> 5\u001b[0m         scalp1 \u001b[38;5;241m=\u001b[39m \u001b[43mget_subj_data\u001b[49m\u001b[43m(\u001b[49m\u001b[43mnan_raw\u001b[49m\u001b[43m,\u001b[49m\u001b[43m \u001b[49m\u001b[43mchannel_couple\u001b[49m\u001b[43m[\u001b[49m\u001b[38;5;241;43m0\u001b[39;49m\u001b[43m]\u001b[49m\u001b[43m,\u001b[49m\u001b[43m \u001b[49m\u001b[43msub\u001b[49m\u001b[43m,\u001b[49m\u001b[43m \u001b[49m\u001b[43mdepth\u001b[49m\u001b[38;5;241;43m=\u001b[39;49m\u001b[38;5;28;43;01mFalse\u001b[39;49;00m\u001b[43m)\u001b[49m\n\u001b[0;32m      6\u001b[0m         scalp2 \u001b[38;5;241m=\u001b[39m get_subj_data(nan_raw, channel_couple[\u001b[38;5;241m1\u001b[39m], sub, depth\u001b[38;5;241m=\u001b[39m\u001b[38;5;28;01mFalse\u001b[39;00m)\n\u001b[0;32m      7\u001b[0m         \u001b[38;5;66;03m# combine and rename columns\u001b[39;00m\n",
      "File \u001b[1;32md:\\user\\Desktop\\Noa_Regev\\Students\\Shaked\\spikes_notebooks\\add_subject_utils.py:114\u001b[0m, in \u001b[0;36mget_subj_data\u001b[1;34m(raw, chan, subj, depth)\u001b[0m\n\u001b[0;32m    112\u001b[0m     curr_feat \u001b[38;5;241m=\u001b[39m extract_epochs_features(epochs, subj)\n\u001b[0;32m    113\u001b[0m \u001b[38;5;28;01melse\u001b[39;00m: \u001b[38;5;66;03m# zeeg\u001b[39;00m\n\u001b[1;32m--> 114\u001b[0m     curr_feat \u001b[38;5;241m=\u001b[39m \u001b[43mget_subj_features_zeeg_fast\u001b[49m\u001b[43m(\u001b[49m\u001b[43mepochs\u001b[49m\u001b[43m,\u001b[49m\u001b[43m \u001b[49m\u001b[43msubj\u001b[49m\u001b[43m,\u001b[49m\u001b[43m \u001b[49m\u001b[43mraw\u001b[49m\u001b[38;5;241;43m.\u001b[39;49m\u001b[43minfo\u001b[49m\u001b[43m[\u001b[49m\u001b[38;5;124;43m'\u001b[39;49m\u001b[38;5;124;43msfreq\u001b[39;49m\u001b[38;5;124;43m'\u001b[39;49m\u001b[43m]\u001b[49m\u001b[43m)\u001b[49m\n\u001b[0;32m    116\u001b[0m \u001b[38;5;66;03m# add channel-level features\u001b[39;00m\n\u001b[0;32m    117\u001b[0m chan_feat \u001b[38;5;241m=\u001b[39m {\n\u001b[0;32m    118\u001b[0m     \u001b[38;5;124m'\u001b[39m\u001b[38;5;124mchan_name\u001b[39m\u001b[38;5;124m'\u001b[39m: chan,\n\u001b[0;32m    119\u001b[0m     \u001b[38;5;124m'\u001b[39m\u001b[38;5;124mchan_ptp\u001b[39m\u001b[38;5;124m'\u001b[39m: np\u001b[38;5;241m.\u001b[39mptp(chan_norm),\n\u001b[0;32m    120\u001b[0m     \u001b[38;5;124m'\u001b[39m\u001b[38;5;124mchan_kurt\u001b[39m\u001b[38;5;124m'\u001b[39m: sp_stats\u001b[38;5;241m.\u001b[39mkurtosis(chan_norm),\n\u001b[0;32m    121\u001b[0m }\n",
      "File \u001b[1;32md:\\user\\Desktop\\Noa_Regev\\Students\\Shaked\\spikes_notebooks\\add_subject_utils.py:210\u001b[0m, in \u001b[0;36mget_subj_features_zeeg_fast\u001b[1;34m(epochs, subj, sr)\u001b[0m\n\u001b[0;32m    208\u001b[0m spect_entropy \u001b[38;5;241m=\u001b[39m mne_features\u001b[38;5;241m.\u001b[39munivariate\u001b[38;5;241m.\u001b[39mcompute_spect_entropy(sr, data, psd_method\u001b[38;5;241m=\u001b[39m\u001b[38;5;124m'\u001b[39m\u001b[38;5;124mwelch\u001b[39m\u001b[38;5;124m'\u001b[39m, psd_params\u001b[38;5;241m=\u001b[39m\u001b[38;5;28;01mNone\u001b[39;00m)\n\u001b[0;32m    209\u001b[0m std \u001b[38;5;241m=\u001b[39m mne_features\u001b[38;5;241m.\u001b[39munivariate\u001b[38;5;241m.\u001b[39mcompute_std(data)\n\u001b[1;32m--> 210\u001b[0m svd_entropy \u001b[38;5;241m=\u001b[39m \u001b[43mmne_features\u001b[49m\u001b[38;5;241;43m.\u001b[39;49m\u001b[43munivariate\u001b[49m\u001b[38;5;241;43m.\u001b[39;49m\u001b[43mcompute_svd_entropy\u001b[49m\u001b[43m(\u001b[49m\u001b[43mdata\u001b[49m\u001b[43m,\u001b[49m\u001b[43m \u001b[49m\u001b[43mtau\u001b[49m\u001b[38;5;241;43m=\u001b[39;49m\u001b[38;5;241;43m2\u001b[39;49m\u001b[43m,\u001b[49m\u001b[43m \u001b[49m\u001b[43memb\u001b[49m\u001b[38;5;241;43m=\u001b[39;49m\u001b[38;5;241;43m10\u001b[39;49m\u001b[43m)\u001b[49m\n\u001b[0;32m    211\u001b[0m svd_fisher_info \u001b[38;5;241m=\u001b[39m mne_features\u001b[38;5;241m.\u001b[39munivariate\u001b[38;5;241m.\u001b[39mcompute_svd_fisher_info(data, tau\u001b[38;5;241m=\u001b[39m\u001b[38;5;241m2\u001b[39m, emb\u001b[38;5;241m=\u001b[39m\u001b[38;5;241m10\u001b[39m)\n\u001b[0;32m    212\u001b[0m variance \u001b[38;5;241m=\u001b[39m mne_features\u001b[38;5;241m.\u001b[39munivariate\u001b[38;5;241m.\u001b[39mcompute_variance(data)\n",
      "File \u001b[1;32mc:\\Users\\user\\AppData\\Local\\Programs\\Python\\Python312\\Lib\\site-packages\\mne_features\\univariate.py:1193\u001b[0m, in \u001b[0;36mcompute_svd_entropy\u001b[1;34m(data, tau, emb)\u001b[0m\n\u001b[0;32m   1166\u001b[0m \u001b[38;5;28;01mdef\u001b[39;00m \u001b[38;5;21mcompute_svd_entropy\u001b[39m(data, tau\u001b[38;5;241m=\u001b[39m\u001b[38;5;241m2\u001b[39m, emb\u001b[38;5;241m=\u001b[39m\u001b[38;5;241m10\u001b[39m):\n\u001b[0;32m   1167\u001b[0m \u001b[38;5;250m    \u001b[39m\u001b[38;5;124;03m\"\"\"SVD entropy (per channel).\u001b[39;00m\n\u001b[0;32m   1168\u001b[0m \n\u001b[0;32m   1169\u001b[0m \u001b[38;5;124;03m    Parameters\u001b[39;00m\n\u001b[1;32m   (...)\u001b[0m\n\u001b[0;32m   1191\u001b[0m \u001b[38;5;124;03m           Medical & biological engineering & computing, 37(1), 93-98.\u001b[39;00m\n\u001b[0;32m   1192\u001b[0m \u001b[38;5;124;03m    \"\"\"\u001b[39;00m\n\u001b[1;32m-> 1193\u001b[0m     _, sv, _ \u001b[38;5;241m=\u001b[39m \u001b[43mnp\u001b[49m\u001b[38;5;241;43m.\u001b[39;49m\u001b[43mlinalg\u001b[49m\u001b[38;5;241;43m.\u001b[39;49m\u001b[43msvd\u001b[49m\u001b[43m(\u001b[49m\u001b[43m_embed\u001b[49m\u001b[43m(\u001b[49m\u001b[43mdata\u001b[49m\u001b[43m,\u001b[49m\u001b[43m \u001b[49m\u001b[43md\u001b[49m\u001b[38;5;241;43m=\u001b[39;49m\u001b[43memb\u001b[49m\u001b[43m,\u001b[49m\u001b[43m \u001b[49m\u001b[43mtau\u001b[49m\u001b[38;5;241;43m=\u001b[39;49m\u001b[43mtau\u001b[49m\u001b[43m)\u001b[49m\u001b[43m)\u001b[49m\n\u001b[0;32m   1194\u001b[0m     m \u001b[38;5;241m=\u001b[39m np\u001b[38;5;241m.\u001b[39msum(sv, axis\u001b[38;5;241m=\u001b[39m\u001b[38;5;241m-\u001b[39m\u001b[38;5;241m1\u001b[39m)\n\u001b[0;32m   1195\u001b[0m     sv_norm \u001b[38;5;241m=\u001b[39m np\u001b[38;5;241m.\u001b[39mdivide(sv, m[:, \u001b[38;5;28;01mNone\u001b[39;00m])\n",
      "File \u001b[1;32mc:\\Users\\user\\AppData\\Local\\Programs\\Python\\Python312\\Lib\\site-packages\\numpy\\linalg\\_linalg.py:1796\u001b[0m, in \u001b[0;36msvd\u001b[1;34m(a, full_matrices, compute_uv, hermitian)\u001b[0m\n\u001b[0;32m   1792\u001b[0m signature \u001b[38;5;241m=\u001b[39m \u001b[38;5;124m'\u001b[39m\u001b[38;5;124mD->DdD\u001b[39m\u001b[38;5;124m'\u001b[39m \u001b[38;5;28;01mif\u001b[39;00m isComplexType(t) \u001b[38;5;28;01melse\u001b[39;00m \u001b[38;5;124m'\u001b[39m\u001b[38;5;124md->ddd\u001b[39m\u001b[38;5;124m'\u001b[39m\n\u001b[0;32m   1793\u001b[0m \u001b[38;5;28;01mwith\u001b[39;00m errstate(call\u001b[38;5;241m=\u001b[39m_raise_linalgerror_svd_nonconvergence,\n\u001b[0;32m   1794\u001b[0m               invalid\u001b[38;5;241m=\u001b[39m\u001b[38;5;124m'\u001b[39m\u001b[38;5;124mcall\u001b[39m\u001b[38;5;124m'\u001b[39m, over\u001b[38;5;241m=\u001b[39m\u001b[38;5;124m'\u001b[39m\u001b[38;5;124mignore\u001b[39m\u001b[38;5;124m'\u001b[39m, divide\u001b[38;5;241m=\u001b[39m\u001b[38;5;124m'\u001b[39m\u001b[38;5;124mignore\u001b[39m\u001b[38;5;124m'\u001b[39m,\n\u001b[0;32m   1795\u001b[0m               under\u001b[38;5;241m=\u001b[39m\u001b[38;5;124m'\u001b[39m\u001b[38;5;124mignore\u001b[39m\u001b[38;5;124m'\u001b[39m):\n\u001b[1;32m-> 1796\u001b[0m     u, s, vh \u001b[38;5;241m=\u001b[39m \u001b[43mgufunc\u001b[49m\u001b[43m(\u001b[49m\u001b[43ma\u001b[49m\u001b[43m,\u001b[49m\u001b[43m \u001b[49m\u001b[43msignature\u001b[49m\u001b[38;5;241;43m=\u001b[39;49m\u001b[43msignature\u001b[49m\u001b[43m)\u001b[49m\n\u001b[0;32m   1797\u001b[0m u \u001b[38;5;241m=\u001b[39m u\u001b[38;5;241m.\u001b[39mastype(result_t, copy\u001b[38;5;241m=\u001b[39m\u001b[38;5;28;01mFalse\u001b[39;00m)\n\u001b[0;32m   1798\u001b[0m s \u001b[38;5;241m=\u001b[39m s\u001b[38;5;241m.\u001b[39mastype(_realType(result_t), copy\u001b[38;5;241m=\u001b[39m\u001b[38;5;28;01mFalse\u001b[39;00m)\n",
      "\u001b[1;31mMemoryError\u001b[0m: Unable to allocate 8.73 GiB for an array with shape (21774, 232, 232) and data type float64"
     ]
    }
   ],
   "source": [
    "# extract scalp features\n",
    "scalp_channels = [[\"C4\", \"F4\"], [\"C4\", \"F3\"]]\n",
    "for channel_couple in scalp_channels:\n",
    "    if all(ch in nan_raw.ch_names for ch in channel_couple):\n",
    "        scalp1 = get_subj_data(nan_raw, channel_couple[0], sub, depth=False)\n",
    "        scalp2 = get_subj_data(nan_raw, channel_couple[1], sub, depth=False)\n",
    "        # combine and rename columns\n",
    "        subj_feat = pd.concat([scalp1, scalp2], axis=1, ignore_index=True) \n",
    "        subj_feat.columns = [f'{channel_couple[0]}_{col}' for col in scalp1.columns] + [f'{channel_couple[1]}_{col}' for col in scalp2.columns]\n",
    "        # save to pkl\n",
    "        # subj_feat.to_pickle(rf'D:\\Bonn\\P{subj}_zeeg_feat.pkl')"
   ]
  },
  {
   "cell_type": "code",
   "execution_count": 66,
   "metadata": {},
   "outputs": [
    {
     "data": {
      "text/plain": [
       "['LAH1', 'LAH2', 'RAH1', 'RAH2', 'FZ', 'F4', 'C4', 'P3', 'CZ', 'EOG1', 'EOG2']"
      ]
     },
     "execution_count": 66,
     "metadata": {},
     "output_type": "execute_result"
    }
   ],
   "source": [
    "nan_raw.ch_names"
   ]
  },
  {
   "cell_type": "code",
   "execution_count": null,
   "metadata": {},
   "outputs": [],
   "source": [
    "# GPU server: 132.66.34.82"
   ]
  },
  {
   "cell_type": "code",
   "execution_count": 4,
   "metadata": {},
   "outputs": [],
   "source": [
    "raw = mne.io.read_raw_egi(r'D:\\Shaked_data\\EL3006_sleep_20220317_011020.mff')"
   ]
  },
  {
   "cell_type": "code",
   "execution_count": 6,
   "metadata": {},
   "outputs": [
    {
     "data": {
      "text/plain": [
       "<mne_qt_browser._pg_figure.MNEQtBrowser at 0x1a0b9333260>"
      ]
     },
     "execution_count": 6,
     "metadata": {},
     "output_type": "execute_result"
    }
   ],
   "source": [
    "raw.pick(raw.ch_names[:50])\n",
    "raw.plot()"
   ]
  }
 ],
 "metadata": {
  "kernelspec": {
   "display_name": "Python 3",
   "language": "python",
   "name": "python3"
  },
  "language_info": {
   "codemirror_mode": {
    "name": "ipython",
    "version": 3
   },
   "file_extension": ".py",
   "mimetype": "text/x-python",
   "name": "python",
   "nbconvert_exporter": "python",
   "pygments_lexer": "ipython3",
   "version": "3.12.7"
  }
 },
 "nbformat": 4,
 "nbformat_minor": 2
}
