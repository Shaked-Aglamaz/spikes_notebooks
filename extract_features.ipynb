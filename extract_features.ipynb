{
 "cells": [
  {
   "cell_type": "code",
   "execution_count": 4,
   "metadata": {},
   "outputs": [],
   "source": [
    "import joblib\n",
    "import mne\n",
    "import os\n",
    "import matplotlib.pyplot as plt\n",
    "from collections import Counter\n",
    "from add_subject_utils import depth, get_subj_data\n",
    "import pandas as pd\n",
    "import numpy as np"
   ]
  },
  {
   "cell_type": "markdown",
   "metadata": {},
   "source": [
    "Mini raw file to check things quickly"
   ]
  },
  {
   "cell_type": "code",
   "execution_count": null,
   "metadata": {},
   "outputs": [],
   "source": [
    "sfreq = 100  # Sampling frequency in Hz\n",
    "n_channels = 3  # Number of EEG channels\n",
    "n_samples = 100  # Number of time points\n",
    "\n",
    "# Create some random data (3 channels, 1000 time points)\n",
    "data = np.random.randn(n_channels, n_samples)\n",
    "\n",
    "# Create channel names and types\n",
    "ch_names = [\"E101\", \"E102\", \"E103\"]\n",
    "ch_types = [\"eeg\"] * n_channels  # All channels are EEG\n",
    "\n",
    "# Create MNE info structure\n",
    "info = mne.create_info(ch_names=ch_names, sfreq=sfreq, ch_types=ch_types)\n",
    "\n",
    "# Create Raw object\n",
    "raw = mne.io.RawArray(data, info)\n",
    "get_subj_data(raw, \"E101\", \"735\", depth=False)"
   ]
  },
  {
   "cell_type": "markdown",
   "metadata": {},
   "source": [
    "Subjects inspection"
   ]
  },
  {
   "cell_type": "code",
   "execution_count": 7,
   "metadata": {},
   "outputs": [],
   "source": [
    "mne.set_log_level(\"error\")\n",
    "scalp = [\"C3\", \"C4\", \"F3\", \"F4\"]"
   ]
  },
  {
   "cell_type": "code",
   "execution_count": 4,
   "metadata": {},
   "outputs": [
    {
     "name": "stdout",
     "output_type": "stream",
     "text": [
      "Number of subjects: 34\n",
      "Number of subjects with scalp: 34\n"
     ]
    }
   ],
   "source": [
    "# checking the channels\n",
    "dir = r\"I:\\Shaked\\clean_with_scalp\"\n",
    "files = sorted(os.listdir(dir))\n",
    "files = [x for x in files if x.split(\".\")[0][-2:] != \"-1\"]\n",
    "scalp_by_subject = {}\n",
    "print(f\"Number of subjects: {len(files)}\")\n",
    "for file in files:\n",
    "    sub = file.split(\"_\")[0][1:]\n",
    "    raw = mne.io.read_raw(os.path.join(dir, file))\n",
    "    if any(x in raw.ch_names for x in scalp):\n",
    "        scalp_by_subject[sub] = [x for x in scalp if x in raw.ch_names]\n",
    "        \n",
    "print(f\"Number of subjects with scalp: {len(scalp_by_subject)}\")"
   ]
  },
  {
   "cell_type": "code",
   "execution_count": 5,
   "metadata": {},
   "outputs": [
    {
     "data": {
      "image/png": "[encoded data removed]",
      "text/plain": [
       "<Figure size 800x500 with 1 Axes>"
      ]
     },
     "metadata": {},
     "output_type": "display_data"
    }
   ],
   "source": [
    "all_channels = [ch for channels in scalp_by_subject.values() for ch in channels]\n",
    "channel_counts = Counter(all_channels)\n",
    "\n",
    "plt.figure(figsize=(8, 5))\n",
    "plt.bar(channel_counts.keys(), channel_counts.values(), color='skyblue', width=0.5)\n",
    "plt.xticks()\n",
    "plt.xlabel(\"Channel Name\")\n",
    "plt.ylabel(\"Count\")\n",
    "plt.title(\"Histogram of Channels Across Subjects\")\n",
    "plt.show()"
   ]
  },
  {
   "cell_type": "code",
   "execution_count": 6,
   "metadata": {},
   "outputs": [
    {
     "data": {
      "text/plain": [
       "Counter({'C4': 33, 'C3': 31, 'F4': 28, 'F3': 26})"
      ]
     },
     "execution_count": 6,
     "metadata": {},
     "output_type": "execute_result"
    }
   ],
   "source": [
    "channel_counts"
   ]
  },
  {
   "cell_type": "markdown",
   "metadata": {},
   "source": [
    "### Features and depth vector extraction \n",
    "After making sure it's all good for one subject, better run all of them continuously from extract_features.py"
   ]
  },
  {
   "cell_type": "code",
   "execution_count": 1,
   "metadata": {},
   "outputs": [],
   "source": [
    "# Define running parameters\n",
    "model_name = \"lgbm_full_f15_s25_b_V5.pkl\"\n",
    "use_all_channels = True\n",
    "confidence = 0.8\n",
    "num_channels_agreement = 2\n",
    "dir = r\"I:\\Shaked\\test1\""
   ]
  },
  {
   "cell_type": "code",
   "execution_count": 2,
   "metadata": {},
   "outputs": [],
   "source": [
    "# run this only at the beginning of this test\n",
    "info_path = rf\"{dir}\\info.txt\"\n",
    "with open(info_path, \"w\") as f:\n",
    "    f.write(f\"model_name: {model_name}\\n\")\n",
    "    f.write(f\"use_all_channels: {use_all_channels}\\n\")\n",
    "    f.write(f\"confidence: {confidence}\\n\")\n",
    "    f.write(f\"num_channels_agreement: {num_channels_agreement}\\n\")"
   ]
  },
  {
   "cell_type": "code",
   "execution_count": 5,
   "metadata": {},
   "outputs": [
    {
     "name": "stderr",
     "output_type": "stream",
     "text": [
      "C:\\Users\\Shaked\\AppData\\Roaming\\Python\\Python310\\site-packages\\sklearn\\base.py:380: InconsistentVersionWarning: Trying to unpickle estimator LabelEncoder from version 1.2.2 when using version 1.6.1. This might lead to breaking code or invalid results. Use at your own risk. For more info please refer to:\n",
      "https://scikit-learn.org/stable/model_persistence.html#security-maintainability-limitations\n",
      "  warnings.warn(\n"
     ]
    }
   ],
   "source": [
    "# run depth model for creating labels\n",
    "depth_model, features = joblib.load(rf\"I:\\Shaked\\{model_name}\").values()"
   ]
  },
  {
   "cell_type": "code",
   "execution_count": 25,
   "metadata": {},
   "outputs": [],
   "source": [
    "sub = \"59\"\n",
    "clean_raw = mne.io.read_raw_fif(fr'I:\\Shaked\\clean_with_scalp\\P{sub}_mtl_clean.fif')\n",
    "nan_clean = clean_raw.get_data(reject_by_annotation='NaN')\n",
    "nan_raw = mne.io.RawArray(nan_clean, clean_raw.info)"
   ]
  },
  {
   "cell_type": "code",
   "execution_count": null,
   "metadata": {},
   "outputs": [],
   "source": [
    "# extract depth features - example for one channel (all channels in next cells)\n",
    "chan = 'LA1'\n",
    "curr_data = nan_raw.pick(chan)\n",
    "curr_data.crop(60 * 60 * 1 + 60 * 20, 60 * 60 * 1 + 60 * 25)\n",
    "subj_data = get_subj_data(curr_data, chan, sub, depth=True)\n",
    "prob = depth_model.predict_proba(subj_data[features])[:, 1]\n",
    "y_depth = (prob >= confidence).astype(int)"
   ]
  },
  {
   "cell_type": "code",
   "execution_count": 26,
   "metadata": {},
   "outputs": [],
   "source": [
    "curr_channels = [chan for chan in nan_raw.ch_names if chan in depth]\n",
    "if not use_all_channels:\n",
    "    # get only one deepest channel from each brain region\n",
    "    min_indexes = {}\n",
    "    for item in curr_channels:\n",
    "        prefix = item[:-1]\n",
    "        index = int(item[-1])\n",
    "        if prefix not in min_indexes or index < int(min_indexes[prefix][-1]):\n",
    "            min_indexes[prefix] = item\n",
    "    curr_channels = list(min_indexes.values())"
   ]
  },
  {
   "cell_type": "code",
   "execution_count": null,
   "metadata": {},
   "outputs": [
    {
     "name": "stdout",
     "output_type": "stream",
     "text": [
      "LA1: 333 spikes\n",
      "LA2: 204 spikes\n",
      "LEC1: 499 spikes\n",
      "LEC2: 1494 spikes\n",
      "RA1: 582 spikes\n",
      "RA2: 681 spikes\n",
      "REC1: 1032 spikes\n",
      "REC2: 1804 spikes\n",
      "Number of spikes: 1373\n",
      "Spikes ratio: 0.013549252965441017\n"
     ]
    }
   ],
   "source": [
    "# extract depth features\n",
    "total_y = None\n",
    "for chan in curr_channels:\n",
    "    curr_data = get_subj_data(nan_raw, chan, sub, depth=True)\n",
    "    predictions = depth_model.predict_proba(curr_data[features])\n",
    "    curr_y = (predictions[:, 1] >= confidence).astype(int)\n",
    "    print(f\"{chan}: {sum(curr_y)} spikes\")\n",
    "    if total_y is None:\n",
    "        total_y = curr_y\n",
    "    else:\n",
    "        # summing answers from all the channels\n",
    "        total_y += curr_y\n",
    "\n",
    "# at least X channels should be above threshold\n",
    "total_y[total_y < num_channels_agreement] = 0\n",
    "total_y[total_y >= num_channels_agreement] = 1\n",
    "print(f\"Number of spikes: {sum(total_y)}\")\n",
    "print(f\"Spikes ratio: {total_y.sum() / len(total_y)}\")"
   ]
  },
  {
   "cell_type": "code",
   "execution_count": 7,
   "metadata": {},
   "outputs": [],
   "source": [
    "# save depth answers\n",
    "np.save(fr\"{dir}\\y_depth_{sub}.npy\", total_y)"
   ]
  },
  {
   "cell_type": "code",
   "execution_count": 8,
   "metadata": {},
   "outputs": [],
   "source": [
    "# load depth answers (if needed)\n",
    "total_y = np.load(fr\"{dir}\\y_depth_{sub}.npy\")"
   ]
  },
  {
   "cell_type": "code",
   "execution_count": 8,
   "metadata": {},
   "outputs": [],
   "source": [
    "# extract scalp features\n",
    "scalp_channels = [[\"C4\", \"F3\"], [\"C3\", \"F4\"]]\n",
    "for channel_couple in scalp_channels:\n",
    "    if all(ch in nan_raw.ch_names for ch in channel_couple):\n",
    "        scalp1 = get_subj_data(nan_raw, channel_couple[0], sub, depth=False)\n",
    "        scalp2 = get_subj_data(nan_raw, channel_couple[1], sub, depth=False)\n",
    "        # combine and rename columns\n",
    "        subj_feat = pd.concat([scalp1, scalp2], axis=1, ignore_index=True) \n",
    "        subj_feat.columns = [f'{channel_couple[0]}_{col}' for col in scalp1.columns] + [f'{channel_couple[1]}_{col}' for col in scalp2.columns]\n",
    "        subj_feat.to_pickle(rf'{dir}\\scalp_features_{\"_\".join(channel_couple)}_{sub}.pkl')\n",
    "    else:\n",
    "        print(f\"Missing: {[x for x in channel_couple if x not in nan_raw.ch_names]}\")"
   ]
  }
 ],
 "metadata": {
  "kernelspec": {
   "display_name": "Python 3",
   "language": "python",
   "name": "python3"
  },
  "language_info": {
   "codemirror_mode": {
    "name": "ipython",
    "version": 3
   },
   "file_extension": ".py",
   "mimetype": "text/x-python",
   "name": "python",
   "nbconvert_exporter": "python",
   "pygments_lexer": "ipython3",
   "version": "3.10.9"
  }
 },
 "nbformat": 4,
 "nbformat_minor": 2
}
